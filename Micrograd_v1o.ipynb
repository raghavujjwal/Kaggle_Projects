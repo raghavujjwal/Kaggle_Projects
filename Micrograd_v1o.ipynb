{
  "nbformat": 4,
  "nbformat_minor": 0,
  "metadata": {
    "colab": {
      "provenance": [],
      "authorship_tag": "ABX9TyOKDGEZR1agcyeJnf966bsk",
      "include_colab_link": true
    },
    "kernelspec": {
      "name": "python3",
      "display_name": "Python 3"
    },
    "language_info": {
      "name": "python"
    }
  },
  "cells": [
    {
      "cell_type": "markdown",
      "metadata": {
        "id": "view-in-github",
        "colab_type": "text"
      },
      "source": [
        "<a href=\"https://colab.research.google.com/github/raghavujjwal/Kaggle_Projects/blob/main/Micrograd_v1o.ipynb\" target=\"_parent\"><img src=\"https://colab.research.google.com/assets/colab-badge.svg\" alt=\"Open In Colab\"/></a>"
      ]
    },
    {
      "cell_type": "code",
      "execution_count": null,
      "metadata": {
        "id": "gi7Q06PQK-5X"
      },
      "outputs": [],
      "source": []
    },
    {
      "cell_type": "code",
      "source": [
        "class value:\n",
        "  def __init__(self, data, __children(), __op=''):\n",
        "    self.data = data\n",
        "    self.__prev = self(__children)\n",
        "    self._op = _op\n",
        "\n",
        "  def __repr__(self):\n",
        "    return rf\"Value(data={self.data})\"\n",
        "\n",
        "  def __add__(self, other):\n",
        "    out = value(self.data+ other.data, (self, other), '+')\n",
        "    return out\n",
        "  def __mul__(self, other):\n",
        "    out = value(self.data* other.data, (self, other), '*')\n",
        "    return out\n",
        "\n",
        "\n",
        "a = value(2.0)\n",
        "b = value(3.0)\n",
        "a*b\n"
      ],
      "metadata": {
        "colab": {
          "base_uri": "https://localhost:8080/"
        },
        "id": "Jj8iWiMqPFUo",
        "outputId": "50551d50-a8e3-4b47-cdc5-64a5e4326484"
      },
      "execution_count": 9,
      "outputs": [
        {
          "output_type": "execute_result",
          "data": {
            "text/plain": [
              "Value(data=6.0)"
            ]
          },
          "metadata": {},
          "execution_count": 9
        }
      ]
    }
  ]
}