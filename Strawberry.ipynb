{
  "metadata": {
    "kernelspec": {
      "language": "python",
      "display_name": "Python 3",
      "name": "python3"
    },
    "language_info": {
      "name": "python",
      "version": "3.10.13",
      "mimetype": "text/x-python",
      "codemirror_mode": {
        "name": "ipython",
        "version": 3
      },
      "pygments_lexer": "ipython3",
      "nbconvert_exporter": "python",
      "file_extension": ".py"
    },
    "kaggle": {
      "accelerator": "none",
      "dataSources": [
        {
          "sourceId": 85855,
          "databundleVersionId": 9711930,
          "sourceType": "competition"
        }
      ],
      "dockerImageVersionId": 30746,
      "isInternetEnabled": true,
      "language": "python",
      "sourceType": "notebook",
      "isGpuEnabled": false
    },
    "colab": {
      "name": "Strawberry",
      "provenance": [],
      "include_colab_link": true
    }
  },
  "nbformat_minor": 0,
  "nbformat": 4,
  "cells": [
    {
      "cell_type": "markdown",
      "metadata": {
        "id": "view-in-github",
        "colab_type": "text"
      },
      "source": [
        "<a href=\"https://colab.research.google.com/github/raghavujjwal/Kaggle_Projects/blob/main/Strawberry.ipynb\" target=\"_parent\"><img src=\"https://colab.research.google.com/assets/colab-badge.svg\" alt=\"Open In Colab\"/></a>"
      ]
    },
    {
      "source": [
        "# IMPORTANT: SOME KAGGLE DATA SOURCES ARE PRIVATE\n",
        "# RUN THIS CELL IN ORDER TO IMPORT YOUR KAGGLE DATA SOURCES.\n",
        "import kagglehub\n",
        "kagglehub.login()\n"
      ],
      "metadata": {
        "id": "9SpS44C3iqwK"
      },
      "cell_type": "code",
      "outputs": [],
      "execution_count": null
    },
    {
      "source": [
        "# IMPORTANT: RUN THIS CELL IN ORDER TO IMPORT YOUR KAGGLE DATA SOURCES,\n",
        "# THEN FEEL FREE TO DELETE THIS CELL.\n",
        "# NOTE: THIS NOTEBOOK ENVIRONMENT DIFFERS FROM KAGGLE'S PYTHON\n",
        "# ENVIRONMENT SO THERE MAY BE MISSING LIBRARIES USED BY YOUR\n",
        "# NOTEBOOK.\n",
        "\n",
        "regression_dataset_path = kagglehub.competition_download('regression-dataset')\n",
        "\n",
        "print('Data source import complete.')\n"
      ],
      "metadata": {
        "id": "jqBeKlORiqwL"
      },
      "cell_type": "code",
      "outputs": [],
      "execution_count": null
    },
    {
      "cell_type": "code",
      "source": [
        "import pandas as pd\n",
        "import numpy as np\n",
        "from matplotlib import pyplot as plt\n",
        "from sklearn.model_selection import train_test_split\n",
        "import seaborn as sns"
      ],
      "metadata": {
        "trusted": true,
        "execution": {
          "iopub.status.busy": "2025-01-04T22:06:40.143098Z",
          "iopub.execute_input": "2025-01-04T22:06:40.143653Z",
          "iopub.status.idle": "2025-01-04T22:06:41.910671Z",
          "shell.execute_reply.started": "2025-01-04T22:06:40.143613Z",
          "shell.execute_reply": "2025-01-04T22:06:41.90958Z"
        },
        "id": "6w5V4sPSiqwM"
      },
      "outputs": [],
      "execution_count": null
    },
    {
      "cell_type": "code",
      "source": [
        "test = pd.read_csv('/kaggle/input/regression-dataset/test.csv')\n",
        "train = pd.read_csv('/kaggle/input/regression-dataset/train.csv')\n",
        "train.head(5)"
      ],
      "metadata": {
        "trusted": true,
        "execution": {
          "iopub.status.busy": "2025-01-04T22:10:21.252268Z",
          "iopub.execute_input": "2025-01-04T22:10:21.253322Z",
          "iopub.status.idle": "2025-01-04T22:10:21.421102Z",
          "shell.execute_reply.started": "2025-01-04T22:10:21.253281Z",
          "shell.execute_reply": "2025-01-04T22:10:21.419701Z"
        },
        "id": "TRrgcOJ-iqwM",
        "outputId": "7571ef16-3e02-464b-924f-8bd754092653"
      },
      "outputs": [
        {
          "execution_count": 3,
          "output_type": "execute_result",
          "data": {
            "text/plain": "   id   Row#  clonesize  honeybee  bumbles  andrena  osmia  MaxOfUpperTRange  \\\n0   0  728.0       25.0      0.50     0.38     0.50   0.63              86.0   \n1   1  657.0       25.0      0.50     0.38     0.38   0.63              69.7   \n2   2  441.0       12.5      0.25     0.38     0.50   0.75              77.4   \n3   3  547.0       25.0      0.50     0.25     0.50   0.75              77.4   \n4   4  692.0       25.0      0.50     0.38     0.38   0.63              86.0   \n\n   MinOfUpperTRange  AverageOfUpperTRange  MaxOfLowerTRange  MinOfLowerTRange  \\\n0              52.0                  71.9              62.0              30.0   \n1              42.1                  58.2              50.2              24.3   \n2              46.8                  64.7              55.8              27.0   \n3              46.8                  64.7              55.8              27.0   \n4              52.0                  71.9              62.0              30.0   \n\n   AverageOfLowerTRange  RainingDays  AverageRainingDays  fruitset  fruitmass  \\\n0                  50.8          1.0                0.10  0.551234   0.471665   \n1                  41.2         16.0                0.26  0.411591   0.398256   \n2                  45.8         24.0                0.39  0.574708   0.480106   \n3                  45.8         16.0                0.26  0.512308   0.453131   \n4                  50.8         24.0                0.39  0.464369   0.433408   \n\n       seeds       yield  \n0  37.214021  6520.89760  \n1  31.875182  4218.32799  \n2  39.230391  7284.81478  \n3  36.362300  6491.22353  \n4  35.118076  6190.66597  ",
            "text/html": "<div>\n<style scoped>\n    .dataframe tbody tr th:only-of-type {\n        vertical-align: middle;\n    }\n\n    .dataframe tbody tr th {\n        vertical-align: top;\n    }\n\n    .dataframe thead th {\n        text-align: right;\n    }\n</style>\n<table border=\"1\" class=\"dataframe\">\n  <thead>\n    <tr style=\"text-align: right;\">\n      <th></th>\n      <th>id</th>\n      <th>Row#</th>\n      <th>clonesize</th>\n      <th>honeybee</th>\n      <th>bumbles</th>\n      <th>andrena</th>\n      <th>osmia</th>\n      <th>MaxOfUpperTRange</th>\n      <th>MinOfUpperTRange</th>\n      <th>AverageOfUpperTRange</th>\n      <th>MaxOfLowerTRange</th>\n      <th>MinOfLowerTRange</th>\n      <th>AverageOfLowerTRange</th>\n      <th>RainingDays</th>\n      <th>AverageRainingDays</th>\n      <th>fruitset</th>\n      <th>fruitmass</th>\n      <th>seeds</th>\n      <th>yield</th>\n    </tr>\n  </thead>\n  <tbody>\n    <tr>\n      <th>0</th>\n      <td>0</td>\n      <td>728.0</td>\n      <td>25.0</td>\n      <td>0.50</td>\n      <td>0.38</td>\n      <td>0.50</td>\n      <td>0.63</td>\n      <td>86.0</td>\n      <td>52.0</td>\n      <td>71.9</td>\n      <td>62.0</td>\n      <td>30.0</td>\n      <td>50.8</td>\n      <td>1.0</td>\n      <td>0.10</td>\n      <td>0.551234</td>\n      <td>0.471665</td>\n      <td>37.214021</td>\n      <td>6520.89760</td>\n    </tr>\n    <tr>\n      <th>1</th>\n      <td>1</td>\n      <td>657.0</td>\n      <td>25.0</td>\n      <td>0.50</td>\n      <td>0.38</td>\n      <td>0.38</td>\n      <td>0.63</td>\n      <td>69.7</td>\n      <td>42.1</td>\n      <td>58.2</td>\n      <td>50.2</td>\n      <td>24.3</td>\n      <td>41.2</td>\n      <td>16.0</td>\n      <td>0.26</td>\n      <td>0.411591</td>\n      <td>0.398256</td>\n      <td>31.875182</td>\n      <td>4218.32799</td>\n    </tr>\n    <tr>\n      <th>2</th>\n      <td>2</td>\n      <td>441.0</td>\n      <td>12.5</td>\n      <td>0.25</td>\n      <td>0.38</td>\n      <td>0.50</td>\n      <td>0.75</td>\n      <td>77.4</td>\n      <td>46.8</td>\n      <td>64.7</td>\n      <td>55.8</td>\n      <td>27.0</td>\n      <td>45.8</td>\n      <td>24.0</td>\n      <td>0.39</td>\n      <td>0.574708</td>\n      <td>0.480106</td>\n      <td>39.230391</td>\n      <td>7284.81478</td>\n    </tr>\n    <tr>\n      <th>3</th>\n      <td>3</td>\n      <td>547.0</td>\n      <td>25.0</td>\n      <td>0.50</td>\n      <td>0.25</td>\n      <td>0.50</td>\n      <td>0.75</td>\n      <td>77.4</td>\n      <td>46.8</td>\n      <td>64.7</td>\n      <td>55.8</td>\n      <td>27.0</td>\n      <td>45.8</td>\n      <td>16.0</td>\n      <td>0.26</td>\n      <td>0.512308</td>\n      <td>0.453131</td>\n      <td>36.362300</td>\n      <td>6491.22353</td>\n    </tr>\n    <tr>\n      <th>4</th>\n      <td>4</td>\n      <td>692.0</td>\n      <td>25.0</td>\n      <td>0.50</td>\n      <td>0.38</td>\n      <td>0.38</td>\n      <td>0.63</td>\n      <td>86.0</td>\n      <td>52.0</td>\n      <td>71.9</td>\n      <td>62.0</td>\n      <td>30.0</td>\n      <td>50.8</td>\n      <td>24.0</td>\n      <td>0.39</td>\n      <td>0.464369</td>\n      <td>0.433408</td>\n      <td>35.118076</td>\n      <td>6190.66597</td>\n    </tr>\n  </tbody>\n</table>\n</div>"
          },
          "metadata": {}
        }
      ],
      "execution_count": null
    },
    {
      "cell_type": "code",
      "source": [
        "train.shape"
      ],
      "metadata": {
        "trusted": true,
        "execution": {
          "iopub.status.busy": "2025-01-04T22:44:08.944397Z",
          "iopub.execute_input": "2025-01-04T22:44:08.945646Z",
          "iopub.status.idle": "2025-01-04T22:44:08.951968Z",
          "shell.execute_reply.started": "2025-01-04T22:44:08.945605Z",
          "shell.execute_reply": "2025-01-04T22:44:08.950753Z"
        },
        "id": "hUofS_zniqwN",
        "outputId": "4e751757-d17b-410d-ccb4-3605d9f176b4"
      },
      "outputs": [
        {
          "execution_count": 25,
          "output_type": "execute_result",
          "data": {
            "text/plain": "(15000, 13)"
          },
          "metadata": {}
        }
      ],
      "execution_count": null
    },
    {
      "cell_type": "code",
      "source": [
        "train.info"
      ],
      "metadata": {
        "trusted": true,
        "execution": {
          "iopub.status.busy": "2025-01-04T22:44:19.137567Z",
          "iopub.execute_input": "2025-01-04T22:44:19.137948Z",
          "iopub.status.idle": "2025-01-04T22:44:19.154005Z",
          "shell.execute_reply.started": "2025-01-04T22:44:19.137918Z",
          "shell.execute_reply": "2025-01-04T22:44:19.152918Z"
        },
        "id": "MyFq8C4OiqwN",
        "outputId": "529f2d72-f6c7-4bcb-e366-04c3f00a82c9"
      },
      "outputs": [
        {
          "execution_count": 26,
          "output_type": "execute_result",
          "data": {
            "text/plain": "<bound method DataFrame.info of           id   Row#  clonesize  honeybee  bumbles  andrena  osmia  \\\n0          0  728.0       25.0      0.50     0.38     0.50   0.63   \n1          1  657.0       25.0      0.50     0.38     0.38   0.63   \n2          2  441.0       12.5      0.25     0.38     0.50   0.75   \n3          3  547.0       25.0      0.50     0.25     0.50   0.75   \n4          4  692.0       25.0      0.50     0.38     0.38   0.63   \n...      ...    ...        ...       ...      ...      ...    ...   \n14995  14995  511.0       25.0      0.50     0.25     0.50   0.75   \n14996  14996  662.0       25.0      0.50     0.25     0.38   0.50   \n14997  14997    3.0       37.5      0.75     0.25     0.25   0.25   \n14998  14998  238.0       12.5      0.25     0.25     0.50   0.50   \n14999  14999  704.0       25.0      0.50     0.25     0.50   0.50   \n\n       AverageOfUpperTRange  AverageOfLowerTRange  AverageRainingDays  \\\n0                      71.9                  50.8                0.10   \n1                      58.2                  41.2                0.26   \n2                      64.7                  45.8                0.39   \n3                      64.7                  45.8                0.26   \n4                      71.9                  50.8                0.39   \n...                     ...                   ...                 ...   \n14995                  64.7                  45.8                0.10   \n14996                  71.9                  50.8                0.39   \n14997                  79.0                  55.9                0.56   \n14998                  58.2                  41.2                0.26   \n14999                  58.2                  41.2                0.10   \n\n       fruitset      seeds       yield  \n0      0.551234  37.214021  6520.89760  \n1      0.411591  31.875182  4218.32799  \n2      0.574708  39.230391  7284.81478  \n3      0.512308  36.362300  6491.22353  \n4      0.464369  35.118076  6190.66597  \n...         ...        ...         ...  \n14995  0.566319  40.037644  6979.32479  \n14996  0.340063  28.417931  3436.49354  \n14997  0.383787  29.467434  3828.16556  \n14998  0.511413  36.249695  6735.24371  \n14999  0.506346  36.976361  6306.55062  \n\n[15000 rows x 13 columns]>"
          },
          "metadata": {}
        }
      ],
      "execution_count": null
    },
    {
      "cell_type": "code",
      "source": [
        "train.nunique()"
      ],
      "metadata": {
        "trusted": true,
        "execution": {
          "iopub.status.busy": "2025-01-04T22:57:01.792714Z",
          "iopub.execute_input": "2025-01-04T22:57:01.793112Z",
          "iopub.status.idle": "2025-01-04T22:57:01.810803Z",
          "shell.execute_reply.started": "2025-01-04T22:57:01.793081Z",
          "shell.execute_reply": "2025-01-04T22:57:01.80949Z"
        },
        "id": "TxGnacNOiqwN",
        "outputId": "3be4c2a9-256c-4bce-e534-ede11e14dcfe"
      },
      "outputs": [
        {
          "execution_count": 41,
          "output_type": "execute_result",
          "data": {
            "text/plain": "id                      15000\nRow#                      775\nclonesize                   5\nhoneybee                    7\nbumbles                     8\nandrena                    13\nosmia                      13\nAverageOfUpperTRange        5\nAverageOfLowerTRange        9\nAverageRainingDays          8\nfruitset                 1112\nseeds                    1209\nyield                     777\ndtype: int64"
          },
          "metadata": {}
        }
      ],
      "execution_count": null
    },
    {
      "cell_type": "code",
      "source": [
        "train.isnull().sum().sort_values(ascending=False)"
      ],
      "metadata": {
        "trusted": true,
        "execution": {
          "iopub.status.busy": "2025-01-04T22:14:11.862801Z",
          "iopub.execute_input": "2025-01-04T22:14:11.863197Z",
          "iopub.status.idle": "2025-01-04T22:14:11.875799Z",
          "shell.execute_reply.started": "2025-01-04T22:14:11.863165Z",
          "shell.execute_reply": "2025-01-04T22:14:11.874403Z"
        },
        "id": "Axsn2g7RiqwN",
        "outputId": "d9070397-98c0-46db-c319-1b5ae30e77d1"
      },
      "outputs": [
        {
          "execution_count": 5,
          "output_type": "execute_result",
          "data": {
            "text/plain": "id                      0\nMaxOfLowerTRange        0\nseeds                   0\nfruitmass               0\nfruitset                0\nAverageRainingDays      0\nRainingDays             0\nAverageOfLowerTRange    0\nMinOfLowerTRange        0\nAverageOfUpperTRange    0\nRow#                    0\nMinOfUpperTRange        0\nMaxOfUpperTRange        0\nosmia                   0\nandrena                 0\nbumbles                 0\nhoneybee                0\nclonesize               0\nyield                   0\ndtype: int64"
          },
          "metadata": {}
        }
      ],
      "execution_count": null
    },
    {
      "cell_type": "code",
      "source": [
        "print(train.columns)\n",
        "\n"
      ],
      "metadata": {
        "trusted": true,
        "execution": {
          "iopub.status.busy": "2025-01-04T22:31:10.781485Z",
          "iopub.execute_input": "2025-01-04T22:31:10.7819Z",
          "iopub.status.idle": "2025-01-04T22:31:10.788361Z",
          "shell.execute_reply.started": "2025-01-04T22:31:10.781855Z",
          "shell.execute_reply": "2025-01-04T22:31:10.787167Z"
        },
        "id": "s-e8aoqRiqwO",
        "outputId": "8994077a-90d6-4cd7-9c3f-cdbf5362e4ed"
      },
      "outputs": [
        {
          "name": "stdout",
          "text": "Index(['id', 'Row#', 'clonesize', 'honeybee', 'bumbles', 'andrena', 'osmia',\n       'MinOfUpperTRange', 'AverageOfUpperTRange', 'MaxOfLowerTRange',\n       'MinOfLowerTRange', 'AverageOfLowerTRange', 'RainingDays',\n       'AverageRainingDays', 'fruitset', 'fruitmass', 'seeds', 'yield'],\n      dtype='object')\n",
          "output_type": "stream"
        }
      ],
      "execution_count": null
    },
    {
      "cell_type": "code",
      "source": [
        "train = pd.read_csv('/kaggle/input/regression-dataset/train.csv')"
      ],
      "metadata": {
        "trusted": true,
        "execution": {
          "iopub.status.busy": "2025-01-04T22:55:24.855359Z",
          "iopub.execute_input": "2025-01-04T22:55:24.855735Z",
          "iopub.status.idle": "2025-01-04T22:55:24.896906Z",
          "shell.execute_reply.started": "2025-01-04T22:55:24.855702Z",
          "shell.execute_reply": "2025-01-04T22:55:24.895676Z"
        },
        "id": "LFeH_C4uiqwO"
      },
      "outputs": [],
      "execution_count": null
    },
    {
      "cell_type": "code",
      "source": [
        "train.drop('MaxOfUpperTRange', inplace=True, axis=1, errors='ignore')\n",
        "train.drop('MinOfUpperTRange', inplace=True, axis=1, errors='ignore')\n",
        "train.drop('MaxOfLowerTRange', inplace=True, axis=1, errors='ignore')\n",
        "train.drop('MinOfLowerTRange', inplace=True, axis=1, errors='ignore')\n",
        "train.drop('RainingDays', inplace=True, axis=1, errors='ignore')\n",
        "train.drop('fruitmass', inplace=True, axis=1, errors='ignore')\n",
        "train.head(5)\n",
        "\n"
      ],
      "metadata": {
        "trusted": true,
        "execution": {
          "iopub.status.busy": "2025-01-04T22:55:28.035395Z",
          "iopub.execute_input": "2025-01-04T22:55:28.035778Z",
          "iopub.status.idle": "2025-01-04T22:55:28.065343Z",
          "shell.execute_reply.started": "2025-01-04T22:55:28.035753Z",
          "shell.execute_reply": "2025-01-04T22:55:28.064017Z"
        },
        "id": "r0PgN89HiqwO",
        "outputId": "b3f07029-b656-496f-8925-45c2bf504671"
      },
      "outputs": [
        {
          "execution_count": 40,
          "output_type": "execute_result",
          "data": {
            "text/plain": "   id   Row#  clonesize  honeybee  bumbles  andrena  osmia  \\\n0   0  728.0       25.0      0.50     0.38     0.50   0.63   \n1   1  657.0       25.0      0.50     0.38     0.38   0.63   \n2   2  441.0       12.5      0.25     0.38     0.50   0.75   \n3   3  547.0       25.0      0.50     0.25     0.50   0.75   \n4   4  692.0       25.0      0.50     0.38     0.38   0.63   \n\n   AverageOfUpperTRange  AverageOfLowerTRange  AverageRainingDays  fruitset  \\\n0                  71.9                  50.8                0.10  0.551234   \n1                  58.2                  41.2                0.26  0.411591   \n2                  64.7                  45.8                0.39  0.574708   \n3                  64.7                  45.8                0.26  0.512308   \n4                  71.9                  50.8                0.39  0.464369   \n\n       seeds       yield  \n0  37.214021  6520.89760  \n1  31.875182  4218.32799  \n2  39.230391  7284.81478  \n3  36.362300  6491.22353  \n4  35.118076  6190.66597  ",
            "text/html": "<div>\n<style scoped>\n    .dataframe tbody tr th:only-of-type {\n        vertical-align: middle;\n    }\n\n    .dataframe tbody tr th {\n        vertical-align: top;\n    }\n\n    .dataframe thead th {\n        text-align: right;\n    }\n</style>\n<table border=\"1\" class=\"dataframe\">\n  <thead>\n    <tr style=\"text-align: right;\">\n      <th></th>\n      <th>id</th>\n      <th>Row#</th>\n      <th>clonesize</th>\n      <th>honeybee</th>\n      <th>bumbles</th>\n      <th>andrena</th>\n      <th>osmia</th>\n      <th>AverageOfUpperTRange</th>\n      <th>AverageOfLowerTRange</th>\n      <th>AverageRainingDays</th>\n      <th>fruitset</th>\n      <th>seeds</th>\n      <th>yield</th>\n    </tr>\n  </thead>\n  <tbody>\n    <tr>\n      <th>0</th>\n      <td>0</td>\n      <td>728.0</td>\n      <td>25.0</td>\n      <td>0.50</td>\n      <td>0.38</td>\n      <td>0.50</td>\n      <td>0.63</td>\n      <td>71.9</td>\n      <td>50.8</td>\n      <td>0.10</td>\n      <td>0.551234</td>\n      <td>37.214021</td>\n      <td>6520.89760</td>\n    </tr>\n    <tr>\n      <th>1</th>\n      <td>1</td>\n      <td>657.0</td>\n      <td>25.0</td>\n      <td>0.50</td>\n      <td>0.38</td>\n      <td>0.38</td>\n      <td>0.63</td>\n      <td>58.2</td>\n      <td>41.2</td>\n      <td>0.26</td>\n      <td>0.411591</td>\n      <td>31.875182</td>\n      <td>4218.32799</td>\n    </tr>\n    <tr>\n      <th>2</th>\n      <td>2</td>\n      <td>441.0</td>\n      <td>12.5</td>\n      <td>0.25</td>\n      <td>0.38</td>\n      <td>0.50</td>\n      <td>0.75</td>\n      <td>64.7</td>\n      <td>45.8</td>\n      <td>0.39</td>\n      <td>0.574708</td>\n      <td>39.230391</td>\n      <td>7284.81478</td>\n    </tr>\n    <tr>\n      <th>3</th>\n      <td>3</td>\n      <td>547.0</td>\n      <td>25.0</td>\n      <td>0.50</td>\n      <td>0.25</td>\n      <td>0.50</td>\n      <td>0.75</td>\n      <td>64.7</td>\n      <td>45.8</td>\n      <td>0.26</td>\n      <td>0.512308</td>\n      <td>36.362300</td>\n      <td>6491.22353</td>\n    </tr>\n    <tr>\n      <th>4</th>\n      <td>4</td>\n      <td>692.0</td>\n      <td>25.0</td>\n      <td>0.50</td>\n      <td>0.38</td>\n      <td>0.38</td>\n      <td>0.63</td>\n      <td>71.9</td>\n      <td>50.8</td>\n      <td>0.39</td>\n      <td>0.464369</td>\n      <td>35.118076</td>\n      <td>6190.66597</td>\n    </tr>\n  </tbody>\n</table>\n</div>"
          },
          "metadata": {}
        }
      ],
      "execution_count": null
    },
    {
      "cell_type": "code",
      "source": [],
      "metadata": {
        "trusted": true,
        "id": "0rKsLPqfiqwO"
      },
      "outputs": [],
      "execution_count": null
    }
  ]
}