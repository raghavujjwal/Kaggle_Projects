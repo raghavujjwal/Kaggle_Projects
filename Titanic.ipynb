{
 "cells": [
  {
   "cell_type": "code",
   "execution_count": 1,
   "id": "71c9d4d3",
   "metadata": {
    "_cell_guid": "b1076dfc-b9ad-4769-8c92-a6c4dae69d19",
    "_uuid": "8f2839f25d086af736a60e9eeb907d3b93b6e0e5",
    "execution": {
     "iopub.execute_input": "2024-11-28T02:27:46.588445Z",
     "iopub.status.busy": "2024-11-28T02:27:46.587907Z",
     "iopub.status.idle": "2024-11-28T02:27:47.530881Z",
     "shell.execute_reply": "2024-11-28T02:27:47.529780Z"
    },
    "papermill": {
     "duration": 0.951041,
     "end_time": "2024-11-28T02:27:47.533174",
     "exception": false,
     "start_time": "2024-11-28T02:27:46.582133",
     "status": "completed"
    },
    "tags": []
   },
   "outputs": [
    {
     "name": "stdout",
     "output_type": "stream",
     "text": [
      "/kaggle/input/datatset/train.csv\n",
      "/kaggle/input/datatset/test.csv\n",
      "/kaggle/input/datatset/gender_submission.csv\n"
     ]
    }
   ],
   "source": [
    "# This Python 3 environment comes with many helpful analytics libraries installed\n",
    "# It is defined by the kaggle/python Docker image: https://github.com/kaggle/docker-python\n",
    "# For example, here's several helpful packages to load\n",
    "\n",
    "import numpy as np # linear algebra\n",
    "import pandas as pd # data processing, CSV file I/O (e.g. pd.read_csv)\n",
    "\n",
    "# Input data files are available in the read-only \"../input/\" directory\n",
    "# For example, running this (by clicking run or pressing Shift+Enter) will list all files under the input directory\n",
    "\n",
    "import os\n",
    "for dirname, _, filenames in os.walk('/kaggle/input'):\n",
    "    for filename in filenames:\n",
    "        print(os.path.join(dirname, filename))\n",
    "\n",
    "# You can write up to 20GB to the current directory (/kaggle/working/) that gets preserved as output when you create a version using \"Save & Run All\" \n",
    "# You can also write temporary files to /kaggle/temp/, but they won't be saved outside of the current session"
   ]
  },
  {
   "cell_type": "code",
   "execution_count": 2,
   "id": "68415dc9",
   "metadata": {
    "execution": {
     "iopub.execute_input": "2024-11-28T02:27:47.541089Z",
     "iopub.status.busy": "2024-11-28T02:27:47.540616Z",
     "iopub.status.idle": "2024-11-28T02:27:47.574920Z",
     "shell.execute_reply": "2024-11-28T02:27:47.573739Z"
    },
    "papermill": {
     "duration": 0.040949,
     "end_time": "2024-11-28T02:27:47.577407",
     "exception": false,
     "start_time": "2024-11-28T02:27:47.536458",
     "status": "completed"
    },
    "tags": []
   },
   "outputs": [],
   "source": [
    "test = pd.read_csv(\"/kaggle/input/datatset/test.csv\")\n",
    "data = pd.read_csv(\"/kaggle/input/datatset/train.csv\")\n",
    "test_ids = test[\"PassengerId\"]\n"
   ]
  },
  {
   "cell_type": "code",
   "execution_count": 3,
   "id": "57d0d40c",
   "metadata": {
    "execution": {
     "iopub.execute_input": "2024-11-28T02:27:47.584839Z",
     "iopub.status.busy": "2024-11-28T02:27:47.584481Z",
     "iopub.status.idle": "2024-11-28T02:27:47.606500Z",
     "shell.execute_reply": "2024-11-28T02:27:47.605286Z"
    },
    "papermill": {
     "duration": 0.029371,
     "end_time": "2024-11-28T02:27:47.609843",
     "exception": false,
     "start_time": "2024-11-28T02:27:47.580472",
     "status": "completed"
    },
    "tags": []
   },
   "outputs": [
    {
     "name": "stderr",
     "output_type": "stream",
     "text": [
      "/tmp/ipykernel_17/49802552.py:5: FutureWarning: A value is trying to be set on a copy of a DataFrame or Series through chained assignment using an inplace method.\n",
      "The behavior will change in pandas 3.0. This inplace method will never work because the intermediate object on which we are setting values always behaves as a copy.\n",
      "\n",
      "For example, when doing 'df[col].method(value, inplace=True)', try using 'df.method({col: value}, inplace=True)' or df[col] = df[col].method(value) instead, to perform the operation inplace on the original object.\n",
      "\n",
      "\n",
      "  data[col].fillna(data[col].median(), inplace=True)\n",
      "/tmp/ipykernel_17/49802552.py:5: FutureWarning: A value is trying to be set on a copy of a DataFrame or Series through chained assignment using an inplace method.\n",
      "The behavior will change in pandas 3.0. This inplace method will never work because the intermediate object on which we are setting values always behaves as a copy.\n",
      "\n",
      "For example, when doing 'df[col].method(value, inplace=True)', try using 'df.method({col: value}, inplace=True)' or df[col] = df[col].method(value) instead, to perform the operation inplace on the original object.\n",
      "\n",
      "\n",
      "  data[col].fillna(data[col].median(), inplace=True)\n",
      "/tmp/ipykernel_17/49802552.py:5: FutureWarning: A value is trying to be set on a copy of a DataFrame or Series through chained assignment using an inplace method.\n",
      "The behavior will change in pandas 3.0. This inplace method will never work because the intermediate object on which we are setting values always behaves as a copy.\n",
      "\n",
      "For example, when doing 'df[col].method(value, inplace=True)', try using 'df.method({col: value}, inplace=True)' or df[col] = df[col].method(value) instead, to perform the operation inplace on the original object.\n",
      "\n",
      "\n",
      "  data[col].fillna(data[col].median(), inplace=True)\n",
      "/tmp/ipykernel_17/49802552.py:5: FutureWarning: A value is trying to be set on a copy of a DataFrame or Series through chained assignment using an inplace method.\n",
      "The behavior will change in pandas 3.0. This inplace method will never work because the intermediate object on which we are setting values always behaves as a copy.\n",
      "\n",
      "For example, when doing 'df[col].method(value, inplace=True)', try using 'df.method({col: value}, inplace=True)' or df[col] = df[col].method(value) instead, to perform the operation inplace on the original object.\n",
      "\n",
      "\n",
      "  data[col].fillna(data[col].median(), inplace=True)\n",
      "/tmp/ipykernel_17/49802552.py:6: FutureWarning: A value is trying to be set on a copy of a DataFrame or Series through chained assignment using an inplace method.\n",
      "The behavior will change in pandas 3.0. This inplace method will never work because the intermediate object on which we are setting values always behaves as a copy.\n",
      "\n",
      "For example, when doing 'df[col].method(value, inplace=True)', try using 'df.method({col: value}, inplace=True)' or df[col] = df[col].method(value) instead, to perform the operation inplace on the original object.\n",
      "\n",
      "\n",
      "  data.Embarked.fillna(\"U\", inplace=True)\n",
      "/tmp/ipykernel_17/49802552.py:5: FutureWarning: A value is trying to be set on a copy of a DataFrame or Series through chained assignment using an inplace method.\n",
      "The behavior will change in pandas 3.0. This inplace method will never work because the intermediate object on which we are setting values always behaves as a copy.\n",
      "\n",
      "For example, when doing 'df[col].method(value, inplace=True)', try using 'df.method({col: value}, inplace=True)' or df[col] = df[col].method(value) instead, to perform the operation inplace on the original object.\n",
      "\n",
      "\n",
      "  data[col].fillna(data[col].median(), inplace=True)\n",
      "/tmp/ipykernel_17/49802552.py:5: FutureWarning: A value is trying to be set on a copy of a DataFrame or Series through chained assignment using an inplace method.\n",
      "The behavior will change in pandas 3.0. This inplace method will never work because the intermediate object on which we are setting values always behaves as a copy.\n",
      "\n",
      "For example, when doing 'df[col].method(value, inplace=True)', try using 'df.method({col: value}, inplace=True)' or df[col] = df[col].method(value) instead, to perform the operation inplace on the original object.\n",
      "\n",
      "\n",
      "  data[col].fillna(data[col].median(), inplace=True)\n",
      "/tmp/ipykernel_17/49802552.py:5: FutureWarning: A value is trying to be set on a copy of a DataFrame or Series through chained assignment using an inplace method.\n",
      "The behavior will change in pandas 3.0. This inplace method will never work because the intermediate object on which we are setting values always behaves as a copy.\n",
      "\n",
      "For example, when doing 'df[col].method(value, inplace=True)', try using 'df.method({col: value}, inplace=True)' or df[col] = df[col].method(value) instead, to perform the operation inplace on the original object.\n",
      "\n",
      "\n",
      "  data[col].fillna(data[col].median(), inplace=True)\n",
      "/tmp/ipykernel_17/49802552.py:5: FutureWarning: A value is trying to be set on a copy of a DataFrame or Series through chained assignment using an inplace method.\n",
      "The behavior will change in pandas 3.0. This inplace method will never work because the intermediate object on which we are setting values always behaves as a copy.\n",
      "\n",
      "For example, when doing 'df[col].method(value, inplace=True)', try using 'df.method({col: value}, inplace=True)' or df[col] = df[col].method(value) instead, to perform the operation inplace on the original object.\n",
      "\n",
      "\n",
      "  data[col].fillna(data[col].median(), inplace=True)\n",
      "/tmp/ipykernel_17/49802552.py:6: FutureWarning: A value is trying to be set on a copy of a DataFrame or Series through chained assignment using an inplace method.\n",
      "The behavior will change in pandas 3.0. This inplace method will never work because the intermediate object on which we are setting values always behaves as a copy.\n",
      "\n",
      "For example, when doing 'df[col].method(value, inplace=True)', try using 'df.method({col: value}, inplace=True)' or df[col] = df[col].method(value) instead, to perform the operation inplace on the original object.\n",
      "\n",
      "\n",
      "  data.Embarked.fillna(\"U\", inplace=True)\n"
     ]
    }
   ],
   "source": [
    "def clean(data):\n",
    "    data = data.drop([\"Ticket\", \"Cabin\", \"Name\", \"PassengerId\"], axis = 1)\n",
    "    cols = [\"SibSp\", \"Parch\", \"Fare\", \"Age\"]\n",
    "    for col in cols:\n",
    "        data[col].fillna(data[col].median(), inplace=True)\n",
    "    data.Embarked.fillna(\"U\", inplace=True)\n",
    "    return data\n",
    "data = clean(data)\n",
    "test = clean(test)"
   ]
  },
  {
   "cell_type": "code",
   "execution_count": 4,
   "id": "26e4d51b",
   "metadata": {
    "execution": {
     "iopub.execute_input": "2024-11-28T02:27:47.617862Z",
     "iopub.status.busy": "2024-11-28T02:27:47.617477Z",
     "iopub.status.idle": "2024-11-28T02:27:48.972650Z",
     "shell.execute_reply": "2024-11-28T02:27:48.971380Z"
    },
    "papermill": {
     "duration": 1.361911,
     "end_time": "2024-11-28T02:27:48.975096",
     "exception": false,
     "start_time": "2024-11-28T02:27:47.613185",
     "status": "completed"
    },
    "tags": []
   },
   "outputs": [
    {
     "name": "stdout",
     "output_type": "stream",
     "text": [
      "['female' 'male']\n",
      "['C' 'Q' 'S']\n"
     ]
    }
   ],
   "source": [
    "from sklearn import preprocessing\n",
    "le = preprocessing.LabelEncoder()\n",
    "cols = [\"Sex\", \"Embarked\"]\n",
    "for col in cols:\n",
    "    data[col] = le.fit_transform(data[col])\n",
    "    test[col] = le.fit_transform(test[col])\n",
    "    print(le.classes_)\n"
   ]
  },
  {
   "cell_type": "code",
   "execution_count": 5,
   "id": "0330e17a",
   "metadata": {
    "execution": {
     "iopub.execute_input": "2024-11-28T02:27:48.983960Z",
     "iopub.status.busy": "2024-11-28T02:27:48.982989Z",
     "iopub.status.idle": "2024-11-28T02:27:49.301921Z",
     "shell.execute_reply": "2024-11-28T02:27:49.300825Z"
    },
    "papermill": {
     "duration": 0.326222,
     "end_time": "2024-11-28T02:27:49.304804",
     "exception": false,
     "start_time": "2024-11-28T02:27:48.978582",
     "status": "completed"
    },
    "tags": []
   },
   "outputs": [],
   "source": [
    "from sklearn.linear_model import LogisticRegression\n",
    "from sklearn.model_selection import train_test_split\n",
    "y = data[\"Survived\"]\n",
    "x = data.drop([\"Survived\"], axis = 1)\n",
    "x_train, x_val, y_train, y_val = train_test_split(x, y, test_size=0.2, random_state = 42)"
   ]
  },
  {
   "cell_type": "code",
   "execution_count": 6,
   "id": "804191ae",
   "metadata": {
    "execution": {
     "iopub.execute_input": "2024-11-28T02:27:49.313484Z",
     "iopub.status.busy": "2024-11-28T02:27:49.313074Z",
     "iopub.status.idle": "2024-11-28T02:27:49.355724Z",
     "shell.execute_reply": "2024-11-28T02:27:49.354683Z"
    },
    "papermill": {
     "duration": 0.050932,
     "end_time": "2024-11-28T02:27:49.359153",
     "exception": false,
     "start_time": "2024-11-28T02:27:49.308221",
     "status": "completed"
    },
    "tags": []
   },
   "outputs": [],
   "source": [
    "clf = LogisticRegression(random_state = 0, max_iter=1000).fit(x_train, y_train)\n"
   ]
  },
  {
   "cell_type": "code",
   "execution_count": 7,
   "id": "f05f57b2",
   "metadata": {
    "execution": {
     "iopub.execute_input": "2024-11-28T02:27:49.368946Z",
     "iopub.status.busy": "2024-11-28T02:27:49.367696Z",
     "iopub.status.idle": "2024-11-28T02:27:49.382105Z",
     "shell.execute_reply": "2024-11-28T02:27:49.380970Z"
    },
    "papermill": {
     "duration": 0.022032,
     "end_time": "2024-11-28T02:27:49.384763",
     "exception": false,
     "start_time": "2024-11-28T02:27:49.362731",
     "status": "completed"
    },
    "tags": []
   },
   "outputs": [
    {
     "data": {
      "text/plain": [
       "0.8100558659217877"
      ]
     },
     "execution_count": 7,
     "metadata": {},
     "output_type": "execute_result"
    }
   ],
   "source": [
    "prediction = clf.predict(x_val)\n",
    "from sklearn.metrics import accuracy_score\n",
    "accuracy_score(y_val, prediction)"
   ]
  },
  {
   "cell_type": "code",
   "execution_count": 8,
   "id": "22e9be54",
   "metadata": {
    "execution": {
     "iopub.execute_input": "2024-11-28T02:27:49.393691Z",
     "iopub.status.busy": "2024-11-28T02:27:49.393180Z",
     "iopub.status.idle": "2024-11-28T02:27:49.400801Z",
     "shell.execute_reply": "2024-11-28T02:27:49.399469Z"
    },
    "papermill": {
     "duration": 0.01489,
     "end_time": "2024-11-28T02:27:49.403142",
     "exception": false,
     "start_time": "2024-11-28T02:27:49.388252",
     "status": "completed"
    },
    "tags": []
   },
   "outputs": [],
   "source": [
    "submission_preds = clf.predict(test)"
   ]
  },
  {
   "cell_type": "code",
   "execution_count": 9,
   "id": "4e0523b0",
   "metadata": {
    "execution": {
     "iopub.execute_input": "2024-11-28T02:27:49.412137Z",
     "iopub.status.busy": "2024-11-28T02:27:49.411726Z",
     "iopub.status.idle": "2024-11-28T02:27:49.417698Z",
     "shell.execute_reply": "2024-11-28T02:27:49.416620Z"
    },
    "papermill": {
     "duration": 0.013471,
     "end_time": "2024-11-28T02:27:49.420218",
     "exception": false,
     "start_time": "2024-11-28T02:27:49.406747",
     "status": "completed"
    },
    "tags": []
   },
   "outputs": [],
   "source": [
    "df = pd.DataFrame({\"PassengerId\": test_ids.values, \"Survived\": submission_preds})"
   ]
  },
  {
   "cell_type": "code",
   "execution_count": 10,
   "id": "6f6cd8cb",
   "metadata": {
    "execution": {
     "iopub.execute_input": "2024-11-28T02:27:49.428791Z",
     "iopub.status.busy": "2024-11-28T02:27:49.428314Z",
     "iopub.status.idle": "2024-11-28T02:27:49.436990Z",
     "shell.execute_reply": "2024-11-28T02:27:49.435819Z"
    },
    "papermill": {
     "duration": 0.015606,
     "end_time": "2024-11-28T02:27:49.439419",
     "exception": false,
     "start_time": "2024-11-28T02:27:49.423813",
     "status": "completed"
    },
    "tags": []
   },
   "outputs": [],
   "source": [
    "df.to_csv(\"Titanic.csv\", index=False)"
   ]
  }
 ],
 "metadata": {
  "kaggle": {
   "accelerator": "none",
   "dataSources": [
    {
     "datasetId": 6180646,
     "sourceId": 10034670,
     "sourceType": "datasetVersion"
    }
   ],
   "dockerImageVersionId": 30786,
   "isGpuEnabled": false,
   "isInternetEnabled": true,
   "language": "python",
   "sourceType": "notebook"
  },
  "kernelspec": {
   "display_name": "Python 3",
   "language": "python",
   "name": "python3"
  },
  "language_info": {
   "codemirror_mode": {
    "name": "ipython",
    "version": 3
   },
   "file_extension": ".py",
   "mimetype": "text/x-python",
   "name": "python",
   "nbconvert_exporter": "python",
   "pygments_lexer": "ipython3",
   "version": "3.10.14"
  },
  "papermill": {
   "default_parameters": {},
   "duration": 6.30557,
   "end_time": "2024-11-28T02:27:50.064587",
   "environment_variables": {},
   "exception": null,
   "input_path": "__notebook__.ipynb",
   "output_path": "__notebook__.ipynb",
   "parameters": {},
   "start_time": "2024-11-28T02:27:43.759017",
   "version": "2.6.0"
  }
 },
 "nbformat": 4,
 "nbformat_minor": 5
}
